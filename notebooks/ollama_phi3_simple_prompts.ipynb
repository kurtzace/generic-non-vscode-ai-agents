{
 "cells": [
  {
   "cell_type": "markdown",
   "id": "afa29c0d",
   "metadata": {},
   "source": [
    "# Using Ollama Phi3 with Simple Prompts\n",
    "\n",
    "This notebook demonstrates how to call the Ollama Phi3 model using Python. You will learn how to install required libraries, set up authentication, send prompts, and display responses."
   ]
  },
  {
   "cell_type": "code",
   "execution_count": 7,
   "id": "31b84db8",
   "metadata": {},
   "outputs": [],
   "source": [
    "import requests\n",
    "OLLAMA_BASE_URL = \"http://localhost:11434\"  # Change if your Ollama server runs elsewhere\n",
    "MODEL_NAME = \"phi3\"\n",
    "# If authentication is required, set your API key here\n",
    "API_KEY = None  # Replace with your API key if needed"
   ]
  },
  {
   "cell_type": "code",
   "execution_count": 8,
   "id": "761cbeaa",
   "metadata": {},
   "outputs": [],
   "source": [
    "def call_ollama_phi3(prompt, model=MODEL_NAME, base_url=OLLAMA_BASE_URL, api_key=API_KEY):\n",
    "    url = f\"{base_url}/api/chat\"\n",
    "    headers = {\"Content-Type\": \"application/json\"}\n",
    "    if api_key:\n",
    "        headers[\"Authorization\"] = f\"Bearer {api_key}\"\n",
    "    data = {\n",
    "        \"model\": model,\n",
    "        \"messages\": [\n",
    "            {\"role\": \"user\", \"content\": prompt}\n",
    "        ],\n",
    "        \"stream\": False\n",
    "    }\n",
    "    response = requests.post(url, json=data, headers=headers)\n",
    "    if response.status_code == 200:\n",
    "        try:\n",
    "            result = response.json()\n",
    "            return result.get(\"message\", {}).get(\"content\", \"\")\n",
    "        except Exception:\n",
    "            return response.text\n",
    "    else:\n",
    "        return f\"Error: {response.status_code} - {response.text}\""
   ]
  },
  {
   "cell_type": "code",
   "execution_count": 9,
   "id": "b2f6a6fb",
   "metadata": {},
   "outputs": [
    {
     "name": "stdout",
     "output_type": "stream",
     "text": [
      "Prompt 1: What is the capital of France?\n",
      "Response: The capital of France is Paris. It'neraly known as one of the major global cities and a leading financial center, it has significant influence in politics, education, science, culture, and international diplomacy. The city was founded by the Parisii tribe around the year 200 BC but became the national capital after King Philippe II consolidated his power among Gaulish tribes during the third century AD—the traditional founding date of modern-day Paris is celebrated on August 26, also known as Saint Denis' Day. With a population in excess of two million people within its city limits and over ten millions if we include its metropolitan area (known to be one of Europe’s largest urban agglomerations), it stands out for having the most visited museums globally including The Louvre, which houses thousands of works from ancient Greek and Roman times through medieval period into modern-day art. Not only is Paris a city steeped in history but also an iconic hub of contemporary culture with its world-famous cabaret shows at Moulin Rouge or Folies Bergère; fashion designers like Chanel, Dior are based there and it's recognized for cuisine - including French onion soup to name one. Its riverside locations offer scenic views that make the city a top tourist destination along with architectural landmarks such as Notre-Dame Cathedral (though sadly currently closed due to restoration after 2019 fire), Eiffel Tower, Arc de Triomphe and many more beautiful gardens. Moreover, it is one of four cities that hosted the Summer Olympic Games twice - in 1900 and 1924 which adds further prestige globally to its status as an international city.\n",
      "----------------------------------------\n",
      "Prompt 2: Summarize the theory of relativity in one sentence.\n",
      "Response: The theory of relativity, proposed by Albert Einstein, fundamentally changed our understanding of space, time, and gravity by revealing that they are interconnected as a single fabric called spacetime, which is affected by mass and energy.\n",
      "----------------------------------------\n",
      "Prompt 3: Write a short poem about the ocean.\n",
      "Response: \n",
      "Whispers of waves dance upon my shore,  \n",
      "\n",
      "A timeless ballet in endless pour.   \n",
      "\n",
      "Azure depths where mysteries roam free,  \n",
      "\n",
      "Their secrets whispered to those who can see.  \n",
      "\n",
      "Salty breeze carrying tales untold,  \n",
      "\n",
      "Of ancient mariners brave and bold.  \n",
      "\n",
      "Ocean'th her song of rolling tides,  \n",
      "\n",
      "In every grain of sand abides.\n",
      "----------------------------------------\n"
     ]
    }
   ],
   "source": [
    "prompts = [\n",
    "    \"What is the capital of France?\",\n",
    "    \"Summarize the theory of relativity in one sentence.\",\n",
    "    \"Write a short poem about the ocean.\"\n",
    "]\n",
    "\n",
    "for i, prompt in enumerate(prompts, 1):\n",
    "    print(f\"Prompt {i}: {prompt}\")\n",
    "    response = call_ollama_phi3(prompt)\n",
    "    print(f\"Response: {response}\\n{'-'*40}\")"
   ]
  },
  {
   "cell_type": "code",
   "execution_count": null,
   "id": "eb11bbef-d81d-44e0-b27e-d44f2d58472b",
   "metadata": {},
   "outputs": [],
   "source": []
  }
 ],
 "metadata": {
  "kernelspec": {
   "display_name": "Python 3 (ipykernel)",
   "language": "python",
   "name": "python3"
  },
  "language_info": {
   "codemirror_mode": {
    "name": "ipython",
    "version": 3
   },
   "file_extension": ".py",
   "mimetype": "text/x-python",
   "name": "python",
   "nbconvert_exporter": "python",
   "pygments_lexer": "ipython3",
   "version": "3.12.9"
  }
 },
 "nbformat": 4,
 "nbformat_minor": 5
}
